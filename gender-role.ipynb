{
 "cells": [
  {
   "cell_type": "markdown",
   "metadata": {},
   "source": [
    "### Binning data into 5-minutes"
   ]
  },
  {
   "cell_type": "code",
   "execution_count": null,
   "metadata": {
    "collapsed": true
   },
   "outputs": [],
   "source": [
    "def get_bins(start_time, end_time, clean_pairs, bins_dict):    \n",
    "    for i in range(start_time, end_time, 300):\n",
    "        bins_dict[i] = set()\n",
    "\n",
    "    bins_list = sorted(bins_dict.keys())\n",
    "\n",
    "    for pair in clean_pairs:\n",
    "        if (int(pair[2])<start_time or int(pair[2])>=end_time):\n",
    "            continue            \n",
    "        else:\n",
    "            time_diff = (int(pair[2]) - start_time)/300\n",
    "            time_bin = bins_list[time_diff]\n",
    "            bins_dict[time_bin].add(tuple(sorted([pair[0], pair[1]])))\n",
    "\n",
    "    return bins_dict"
   ]
  },
  {
   "cell_type": "markdown",
   "metadata": {},
   "source": [
    "### Gender shuffling"
   ]
  },
  {
   "cell_type": "code",
   "execution_count": null,
   "metadata": {
    "collapsed": true
   },
   "outputs": [],
   "source": [
    "%%cython\n",
    "import random\n",
    "def shuffle_gender(G, female_ids): \n",
    "    nodes = G.nodes()\n",
    "    cdef int count_nodes = 0\n",
    "    cdef list females_new = []\n",
    "    cdef list males_new = []\n",
    "    for node in nodes:\n",
    "        if node in female_ids:\n",
    "            count_nodes += 1\n",
    "    random.shuffle(nodes)\n",
    "    females_new = nodes[:count_nodes]    \n",
    "    males_new = nodes[-(len(nodes)-count_nodes):]\n",
    "    return [males_new, females_new]"
   ]
  },
  {
   "cell_type": "markdown",
   "metadata": {},
   "source": [
    "### Triangles"
   ]
  },
  {
   "cell_type": "code",
   "execution_count": null,
   "metadata": {
    "collapsed": true
   },
   "outputs": [],
   "source": [
    "def find_triangles(int_net):\n",
    "    result=[] \n",
    "    done=set()    \n",
    "    for n in int_net: \n",
    "        done.add(n)    \n",
    "        nbrdone=set()     \n",
    "        nbrs=set(int_net[n]) \n",
    "        for nbr in nbrs: \n",
    "            if nbr in done:     \n",
    "                continue     \n",
    "            nbrdone.add(nbr)    \n",
    "            for both in nbrs.intersection(int_net[nbr]): \n",
    "                if both in done or both in nbrdone:    \n",
    "                    continue    \n",
    "                result.append( (n,nbr,both) ) \n",
    "    return result\n",
    "\n",
    "def count_triangles(triangles, males_new, females_new):\n",
    "    count_MMM = 0\n",
    "    count_FFF = 0\n",
    "    count = 0\n",
    "    for node in triangles:\n",
    "        if node[0] in males_new and node[1] in males_new and node[2] in males_new:\n",
    "            count_MMM += 1\n",
    "        elif node[0] in females_new and node[1] in females_new and node[2] in females_new:\n",
    "            count_FFF += 1\n",
    "        else:\n",
    "            count += 1\n",
    "    return [count_MMM, count_FFF, count]"
   ]
  },
  {
   "cell_type": "markdown",
   "metadata": {},
   "source": [
    "### Entropies of contacts"
   ]
  },
  {
   "cell_type": "code",
   "execution_count": null,
   "metadata": {
    "collapsed": true
   },
   "outputs": [],
   "source": [
    "def prox_entropy(user):\n",
    "    probs = []\n",
    "    if user:\n",
    "        user = np.array(user)\n",
    "        frequencies = Counter(user).values()    \n",
    "        for freq in frequencies:\n",
    "            probs.append(float(freq)/sum(frequencies))\n",
    "        return entr(probs).sum(axis=0)/np.log(2)"
   ]
  },
  {
   "cell_type": "markdown",
   "metadata": {
    "collapsed": true
   },
   "source": [
    "### Weekly fraction of same gender friends"
   ]
  },
  {
   "cell_type": "code",
   "execution_count": null,
   "metadata": {
    "collapsed": true
   },
   "outputs": [],
   "source": [
    "import numpy as np\n",
    "import pandas as pd\n",
    "\n",
    "def fraction_weekly(user, calls_dict, males_new, females_new):\n",
    "    contacts = np.array(calls_dict[user])\n",
    "    times = contacts[:,1]\n",
    "    times = list(times)\n",
    "    times = [int(time) for time in times]\n",
    "    p_index = pd.to_datetime(times, unit='s')\n",
    "    data = {\"user2\":contacts[:,0]}\n",
    "    df = pd.DataFrame(data, index=p_index, columns=[\"user2\"])\n",
    "    records = df.groupby([df.index.week, df.user2]).size()\n",
    "    frac_week = {}\n",
    "    for week in range(0,54):\n",
    "        if week in records:\n",
    "            w_pairs = dict(records[week]).keys()\n",
    "            if w_pairs:\n",
    "                fraction = fraction_gender(w_pairs, males_new, females_new)        \n",
    "                frac_week[week] = fraction\n",
    "    return frac_week\n",
    "\n",
    "def fraction_gender(friends, males_new, females_new):   \n",
    "    m_count = 0\n",
    "    for friend in friends:\n",
    "        if friend in males_new:\n",
    "            m_count += 1\n",
    "    frac = float(m_count)/len(friends)        \n",
    "    return frac"
   ]
  },
  {
   "cell_type": "markdown",
   "metadata": {},
   "source": [
    "### Entropies of locations"
   ]
  },
  {
   "cell_type": "code",
   "execution_count": null,
   "metadata": {
    "collapsed": true
   },
   "outputs": [],
   "source": [
    "from scipy.special import entr\n",
    "from __future__ import division\n",
    "\n",
    "def location_entropy(user):\n",
    "    time_loc={}\n",
    "    dist = {}\n",
    "    #calculate time spent in a location\n",
    "    for i in user:\n",
    "        if i[\"label\"] in time_loc:\n",
    "            time_loc[i[\"label\"]] = sec_spent(i[\"arrival\"], i[\"departure\"]) + time_loc[i[\"label\"]]\n",
    "        else:\n",
    "            time_loc[i[\"label\"]] = sec_spent(i[\"arrival\"], i[\"departure\"])\n",
    "    \n",
    "    #calculate the probability for each location\n",
    "    for loc in time_loc:\n",
    "        dist[loc] = float(time_loc[loc])/sum(time_loc.values())\n",
    "    #return the entropy    \n",
    "    return entr(dist.values()).sum(axis=0)/np.log(2)\n",
    "\n",
    "def sec_spent(a,b):\n",
    "    diff=(datetime.fromtimestamp(b) - datetime.fromtimestamp(a))\n",
    "\n",
    "    return diff.total_seconds()"
   ]
  },
  {
   "cell_type": "markdown",
   "metadata": {},
   "source": [
    "### Cosine similarity between weeks"
   ]
  },
  {
   "cell_type": "code",
   "execution_count": null,
   "metadata": {
    "collapsed": true
   },
   "outputs": [],
   "source": [
    "import numpy as np\n",
    "import pandas as pd\n",
    "from scipy import spatial\n",
    "\n",
    "def week_explore(user):\n",
    "    user = np.array(user)\n",
    "    times = user[:,0]\n",
    "    times = list(times)\n",
    "    times = [int(time) for time in times]\n",
    "    p_index = pd.to_datetime(times, unit='s')\n",
    "    data = {\"label\":user[:,1]}\n",
    "    df = pd.DataFrame(data, index=p_index.week, columns=[\"label\"])\n",
    "    labels = set(user[:,1])\n",
    "    weeks = set(p_index.week)\n",
    "    records = dict(df.groupby([df.index, df.label]).size())\n",
    "    for week in weeks:\n",
    "        for label in labels:\n",
    "            if (week, label) not in records:\n",
    "                records[(week, label)] = 0\n",
    "    new_dict = {}\n",
    "    for week in weeks:\n",
    "        data = {}\n",
    "        for rec in records:\n",
    "            if rec[0] == week:\n",
    "                data[rec[1]] = records[rec]\n",
    "        new_dict[week] = data\n",
    "    \n",
    "    new_df = pd.DataFrame(new_dict).T\n",
    "    data = new_df.values\n",
    "    m = len(weeks)\n",
    "    mat = []\n",
    "    for i in xrange(m-1):\n",
    "        similarity = float(1 - spatial.distance.cosine(data[i,:], data[i+1,:]))\n",
    "        mat.append(similarity)\n",
    "    if mat:\n",
    "        return np.mean(mat) "
   ]
  },
  {
   "cell_type": "code",
   "execution_count": null,
   "metadata": {
    "collapsed": true
   },
   "outputs": [],
   "source": []
  }
 ],
 "metadata": {
  "kernelspec": {
   "display_name": "Python 2",
   "language": "python",
   "name": "python2"
  },
  "language_info": {
   "codemirror_mode": {
    "name": "ipython",
    "version": 2
   },
   "file_extension": ".py",
   "mimetype": "text/x-python",
   "name": "python",
   "nbconvert_exporter": "python",
   "pygments_lexer": "ipython2",
   "version": "2.7.11"
  }
 },
 "nbformat": 4,
 "nbformat_minor": 0
}
